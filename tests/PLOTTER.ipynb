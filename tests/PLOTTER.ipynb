{
 "cells": [
  {
   "cell_type": "code",
   "execution_count": 8,
   "metadata": {
    "collapsed": true,
    "pycharm": {
     "name": "#%%\n",
     "is_executing": false
    }
   },
   "outputs": [],
   "source": [
    "\n",
    "import matplotlib.pyplot as plt\n",
    "import seaborn as sns\n",
    "import numpy as np\n",
    "import csv\n",
    "import math\n",
    "\n",
    "\n",
    "def readFile(path):\n",
    "    data = [[],[],[]]\n",
    "    with open(path, encoding='utf-8') as f:\n",
    "        reader = csv.reader(f)\n",
    "        next(reader)\n",
    "        for col in reader:\n",
    "            data[0].append(float(col[0]))\n",
    "            data[1].append(float(col[1]))\n",
    "            if data[2]:\n",
    "                return data\n",
    "    "
   ]
  },
  {
   "cell_type": "code",
   "execution_count": 42,
   "outputs": [
    {
     "data": {
      "text/plain": "[[[0.845, 0.439, 0.276, 0.215, 0.192, 0.149, 0.127, 0.112, 0.102, 0.091],\n  [0.864, 0.405, 0.284, 0.213, 0.177, 0.149, 0.126, 0.114, 0.102, 0.09],\n  [0.878, 0.378, 0.305, 0.216, 0.186, 0.143, 0.129, 0.105, 0.099, 0.085]],\n [[0.865, 0.724, 0.623, 0.511, 0.428, 0.403, 0.365, 0.338, 0.301, 0.292],\n  [0.868, 0.649, 0.563, 0.487, 0.447, 0.406, 0.374, 0.329, 0.308, 0.289],\n  [0.878, 0.635, 0.562, 0.48, 0.455, 0.391, 0.387, 0.345, 0.322, 0.291]],\n [[0.858, 0.779, 0.703, 0.646, 0.591, 0.547, 0.521, 0.498, 0.461, 0.445],\n  [0.875, 0.737, 0.658, 0.602, 0.572, 0.547, 0.513, 0.488, 0.461, 0.448],\n  [0.873, 0.724, 0.685, 0.626, 0.596, 0.557, 0.537, 0.5, 0.473, 0.455]]]"
     },
     "metadata": {},
     "output_type": "execute_result",
     "execution_count": 42
    }
   ],
   "source": [
    "ft_30 = [0.845, 0.439, 0.276, 0.215, 0.192, 0.149, 0.127, 0.112, 0.102, 0.091]\n",
    "ft_653 = [0.864, 0.405, 0.284, 0.213, 0.177, 0.149, 0.126, 0.114, 0.102, 0.090]\n",
    "ft_1993 = [0.878, 0.378, 0.305, 0.216, 0.186, 0.143, 0.129, 0.105, 0.099, 0.085]\n",
    "ft = [ft_30, ft_653, ft_1993]\n",
    "\n",
    "\n",
    "jt_30 = [0.858, 0.836, 0.802, 0.774, 0.756, 0.749, 0.732, 0.718, 0.713, 0.704]\n",
    "jt_653 = [0.841,0.802,0.766,0.758,0.758,0.747,0.74,0.723,0.706,0.691,0.690]\n",
    "jt_1993 = [0.87,0.773,0.771,0.762,0.750,0.74,0.729,0.711,0.710,0.699]\n",
    "jt = [jt_30, jt_653, jt_1993]\n",
    "\n",
    "lwf_30 = [0.865, 0.724, 0.623, 0.511, 0.428, 0.403, 0.365, \t0.338, \t0.301, \t0.292]\n",
    "lwf_653 = [0.868, 0.649, 0.563, 0.487, 0.447, 0.406, 0.374, 0.329, 0.308, 0.289]\n",
    "lwf_1993 = [0.878, 0.635, 0.562, 0.480, 0.455, 0.391, 0.387, 0.345, 0.322, 0.291]\n",
    "lwf = [lwf_30, lwf_653, lwf_1993]\n",
    "\n",
    "icarl_30 = [0.858, 0.779, 0.703, 0.646, 0.591, 0.547, 0.521, 0.498, 0.461, 0.445]\n",
    "icarl_653 = [0.875, 0.737, 0.658, 0.602, 0.572, 0.547, 0.513, 0.488, 0.461, 0.448]\n",
    "icarl_1993 = [0.873, 0.724, 0.685, 0.626, 0.596, 0.557, 0.537, 0.500, 0.473, 0.455]\n",
    "icarl = [icarl_30,icarl_653,icarl_1993]\n",
    "\n",
    "baselines = [ft,lwf,icarl]\n",
    "baselines"
   ],
   "metadata": {
    "collapsed": false,
    "pycharm": {
     "name": "#%%\n",
     "is_executing": false
    }
   }
  },
  {
   "cell_type": "code",
   "execution_count": 43,
   "outputs": [],
   "source": [
    "ft_mean = []\n",
    "jt_mean = []\n",
    "lwf_mean = []\n",
    "icarl_mean = []\n",
    "ft_std = []\n",
    "jt_std = []\n",
    "lwf_std = []\n",
    "icarl_std = []\n",
    "\n",
    "x = np.array(range(10, 101, 10))\n",
    "\n",
    "for i, _ in enumerate(x):\n",
    "    ft_column = np.array([row[i] for row in ft])\n",
    "    jt_column = np.array([row[i] for row in jt])\n",
    "    lwf_column = np.array([row[i] for row in lwf])\n",
    "    icarl_column = np.array([row[i] for row in icarl])\n",
    "\n",
    "    ft_mean.append(np.mean(ft_column))\n",
    "    ft_std.append(np.std(ft_column))\n",
    "    \n",
    "    jt_mean.append(np.mean(jt_column))\n",
    "    jt_std.append(np.std(jt_column))\n",
    "    \n",
    "    lwf_mean.append(np.mean(lwf_column))\n",
    "    lwf_std.append(np.std(lwf_column))\n",
    "    \n",
    "    icarl_mean.append(np.mean(icarl_column))\n",
    "    icarl_std.append(np.std(icarl_column))\n",
    "\n",
    "ft_mean_np = np.array(ft_mean)\n",
    "jt_mean_np = np.array(jt_mean)\n",
    "lwf_mean_np = np.array(lwf_mean)\n",
    "icarl_mean_np = np.array(icarl_mean)\n",
    "\n",
    "ft_std_np = np.array(ft_std)\n",
    "jt_std_np = np.array(jt_std)\n",
    "lwf_std_np = np.array(lwf_std)\n",
    "icarl_std_np = np.array(icarl_std)\n",
    "\n"
   ],
   "metadata": {
    "collapsed": false,
    "pycharm": {
     "name": "#%%\n",
     "is_executing": false
    }
   }
  },
  {
   "cell_type": "code",
   "execution_count": 45,
   "outputs": [
    {
     "data": {
      "text/plain": "<matplotlib.legend.Legend at 0xc8ed50>"
     },
     "metadata": {},
     "output_type": "execute_result",
     "execution_count": 45
    },
    {
     "data": {
      "text/plain": "<Figure size 432x288 with 1 Axes>",
      "image/png": "[encoded data removed]"
     },
     "metadata": {
      "needs_background": "light"
     },
     "output_type": "display_data"
    }
   ],
   "source": [
    "plt.figure()  \n",
    "\n",
    "plt.errorbar(x, ft_mean, ft_std, marker='.', capsize=3, color=\"green\", label=\"FineTuning\")\n",
    "plt.errorbar(x, jt_mean, jt_std, marker='.', capsize=3, color=\"red\", label= \"JointTraining\")\n",
    "plt.errorbar(x, lwf_mean, lwf_std, marker='.', capsize=3, color=\"blue\", label = \"LwF\")\n",
    "plt.errorbar(x, icarl_mean, icarl_std, marker='.', capsize=3, color=\"magenta\", label=\"iCarl\")\n",
    "\n",
    "plt.xlabel('Number of classes')\n",
    "plt.ylabel('Accuracy')\n",
    "plt.legend()"
   ],
   "metadata": {
    "collapsed": false,
    "pycharm": {
     "name": "#%%\n",
     "is_executing": false
    }
   }
  },
  {
   "cell_type": "code",
   "execution_count": null,
   "outputs": [],
   "source": [
    "\n"
   ],
   "metadata": {
    "collapsed": false,
    "pycharm": {
     "name": "#%%\n"
    }
   }
  }
 ],
 "metadata": {
  "kernelspec": {
   "display_name": "Python 3",
   "language": "python",
   "name": "python3"
  },
  "language_info": {
   "codemirror_mode": {
    "name": "ipython",
    "version": 2
   },
   "file_extension": ".py",
   "mimetype": "text/x-python",
   "name": "python",
   "nbconvert_exporter": "python",
   "pygments_lexer": "ipython2",
   "version": "2.7.6"
  },
  "pycharm": {
   "stem_cell": {
    "cell_type": "raw",
    "source": [],
    "metadata": {
     "collapsed": false
    }
   }
  }
 },
 "nbformat": 4,
 "nbformat_minor": 0
}